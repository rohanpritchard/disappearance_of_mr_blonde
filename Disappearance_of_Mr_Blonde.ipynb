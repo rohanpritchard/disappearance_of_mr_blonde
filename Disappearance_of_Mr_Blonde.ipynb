{
  "nbformat": 4,
  "nbformat_minor": 0,
  "metadata": {
    "colab": {
      "name": "Disappearance of Mr Blonde.ipynb",
      "provenance": [],
      "collapsed_sections": [],
      "toc_visible": true
    },
    "kernelspec": {
      "name": "python3",
      "display_name": "Python 3"
    }
  },
  "cells": [
    {
      "cell_type": "markdown",
      "metadata": {
        "id": "TVJA2vdABFlj",
        "colab_type": "text"
      },
      "source": [
        "**Introduction**\n",
        "\n",
        "Welcome. You work as an intelligence analyst for [GCHQ](https://www.gchq.gov.uk) (Britain's leading intelligence and security organisation). \n",
        "\n",
        "\n",
        "---\n",
        "\n",
        "\n",
        "You've been tasked with investigating the disappearance of an [intelligence officer](https://www.sis.gov.uk/intelligence-officers.html) in the field known as *Mr Blonde*, he was ambushed by a double agent also working for GCHQ. Knowing that you're the only one he could trust, *Mr Blonde* sent you a number of secret messages to help you identify the double agent before he fell off the radar. Do *Mr Blonde* justice, identify the double agent.\n",
        "\n",
        "\n",
        "---\n",
        "\n",
        "\n",
        "\n",
        "\n"
      ]
    },
    {
      "cell_type": "code",
      "metadata": {
        "id": "HyN4XsMn1jQx",
        "colab_type": "code",
        "colab": {}
      },
      "source": [
        "#---------------------GETTING STARTED-----------------------\n",
        "\n",
        "# Running code here is really easy! Try running the code below using the play\n",
        "# button at the top/to the left, the output will print just below.\n",
        "\n",
        "x = 3\n",
        "print(\"This is just normal code!\")\n",
        "print(x)\n",
        "\n",
        "# Sometimes I'll define some functions for you to use, don't worry about how \n",
        "# they're implemented, just know that you can use them. :)"
      ],
      "execution_count": 0,
      "outputs": []
    },
    {
      "cell_type": "code",
      "metadata": {
        "id": "DnOGjwvuBDgh",
        "colab_type": "code",
        "colab": {}
      },
      "source": [
        "#-------------------------INTEL 1---------------------------\n",
        "\n",
        "# Ignore this... ---------------------\n",
        "def is_char_capital(x):\n",
        "  return x.isupper()\n",
        "# ------------------------------------\n",
        "\n",
        "# Check out intel_1.txt... Skim over the text (no need to read too much in\n",
        "# depth), notice something funny about the formatting?\n",
        "\n",
        "# Decrypt the message below:\n",
        "\n",
        "\n",
        "\n",
        "\n",
        "\n",
        "# HINTS - these functions might help you -------------------------------\n",
        "# - is_char_capital(x) takes a char and returns True if it's a capital letter or\n",
        "#   False if it isn't."
      ],
      "execution_count": 0,
      "outputs": []
    },
    {
      "cell_type": "code",
      "metadata": {
        "id": "1qymkivjY1lU",
        "colab_type": "code",
        "colab": {}
      },
      "source": [
        "#-------------------------INTEL 2---------------------------\n",
        "\n",
        "# Now check intel_2.txt... Mr Blonde transmitted a message but it became\n",
        "# jumbled. Restore the correct order of the words by using this ordering:\n",
        "\n",
        "order = [95,67,30,5,65,24,89,55,71,19,60,59,0,78,58,66,61,85,53,23,9,11,75,87,\n",
        "         12,69,88,62,31,21,10,1,32,82,81,74,4,3,57,73,13,26,49,14,92,44,25,54,\n",
        "         83,41,42,33,27,47,70,40,72,52,50,20,39,18,45,43,17,80,84,63,64,68,16,\n",
        "         37,35,8,51,94,48,22,7,46,76,96,90,28,2,77,38,36,15,6,29,93,34,79,86,\n",
        "         91,56]\n",
        "\n",
        "# E.g. you need to print the 95th char, then the 67th etc..."
      ],
      "execution_count": 0,
      "outputs": []
    },
    {
      "cell_type": "code",
      "metadata": {
        "id": "obfQgUFb1eBO",
        "colab_type": "code",
        "colab": {}
      },
      "source": [
        "#-------------------------INTEL 3---------------------------\n",
        "\n",
        "# Ignore this... ---------------------\n",
        "import matplotlib.pyplot as plt\n",
        "\n",
        "def parse_coordinates(x):\n",
        "  return [int(n) for n in x.split(\",\")][:2]\n",
        "\n",
        "def plot_graph(xs, ys):\n",
        "  plt.scatter(xs, ys)\n",
        "  plt.show()\n",
        "# ------------------------------------\n",
        "\n",
        "# Take a look at intel_3.txt. Mr Blonde has a habit of hiding messages within\n",
        "# coordinates. Perhaps plotting the coordinates reveals information...\n",
        "\n",
        "\n",
        "\n",
        "\n",
        "\n",
        "# HINTS - these functions might help you -------------------------------\n",
        "# - parse_coordinates(x) takes a string (like \"12,32\") and returns a list of\n",
        "#   numbers (like [12, 32]).\n",
        "#\n",
        "# - plot_graph(xs, ys) takes a list of x coordinates and then a list of y \n",
        "#   coordinates and plots them for you on a graph."
      ],
      "execution_count": 0,
      "outputs": []
    },
    {
      "cell_type": "markdown",
      "metadata": {
        "id": "cVPdQ-Qh7D13",
        "colab_type": "text"
      },
      "source": [
        "**I think you're set, agent...**\n",
        "\n",
        "You should have all the information you need now to reveal the double agent. You might need to use the [GOV.UK Vehicle Enquiry Service](https://vehicleenquiry.service.gov.uk/?locale=en) to extrapolate from your clues."
      ]
    },
    {
      "cell_type": "code",
      "metadata": {
        "id": "E7XL8jESqbis",
        "colab_type": "code",
        "colab": {
          "base_uri": "https://localhost:8080/",
          "height": 85
        },
        "outputId": "f2f0646e-5f52-4c28-882d-912b31512c95"
      },
      "source": [
        "#----------------------THE UNVEILING------------------------\n",
        "\n",
        "# Ignore this... ---------------------\n",
        "def verify_double_agent(name):\n",
        "  correct = (\"Correct! Good job agent.\\n\\n\"\n",
        "  \"Checkout the GCHQ website above to learn about the roles they have on offer\\n\" \n",
        "  \"if it looks like your kinda thing.\")\n",
        "  incorrect = \"Not quite right, check the spelling?\"\n",
        "  return correct if hash(name.lower()) == -9031207739353350220 else incorrect\n",
        "# ------------------------------------\n",
        "\n",
        "# Think you've identified the agent? Check with the method below:\n",
        "\n",
        "print(verify_double_agent(\"ENTER NAME HERE\"))"
      ],
      "execution_count": 25,
      "outputs": [
        {
          "output_type": "stream",
          "text": [
            "Correct! Good job agent.\n",
            "\n",
            "Checkout the GCHQ website above to learn about the roles they have on offer\n",
            "if it looks like your kinda thing.\n"
          ],
          "name": "stdout"
        }
      ]
    }
  ]
}